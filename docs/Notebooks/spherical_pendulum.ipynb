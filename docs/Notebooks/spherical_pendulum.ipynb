{
 "cells": [
  {
   "cell_type": "markdown",
   "id": "c7202593-1a48-40f7-b85f-b2bc628e2d39",
   "metadata": {},
   "source": [
    "# Deriving the Equations of Motion of a Simple Spherical Pendulum\n",
    "\n",
    "We model the spherical simple pendulum as a point mass ($m_P$) attached by a massless, rigid link of length $\\ell$ to an inertially fixed point $O$.  The mass is free to move in 3D subject to the constraint of the link length.\n",
    "\n",
    "<img src=\"spherical_pendulum.png\" width=\"600\"> \n",
    "\n",
    "We define an inertial frame $\\mathcal{I} = (\\mathbf{\\hat{e}}_1,\\mathbf{\\hat{e}}_2,\\mathbf{\\hat{e}}_3)$ such that $\\mathbf{\\hat{e}}_3$ points opposite the direction of gravity, and a spherical reference frame $\\mathcal{S} = (\\mathbf{\\hat{e}}_\\phi,\\mathbf{\\hat{e}}_\\theta,\\mathbf{\\hat{e}}_\\rho)$ such that $\\mathbf{\\hat{e}}_\\rho$ points from $O$ to $P$ (e.g. $\\mathbf{\\hat{e}}_\\rho \\equiv \\mathbf{\\hat{r}}_{P/O}$). The system's generalized coordinates are $\\theta$ (the azimuth angle) and $\\phi$ (the zenith angle). The only forces acting on the pendulum mass are gravity and the link constraint force, which we will assume has magnitude $F_C$."
   ]
  },
  {
   "cell_type": "markdown",
   "id": "a96a9d81-8f3e-4e0b-9cb2-9d106140bccf",
   "metadata": {},
   "source": [
    "## Define system coordiantes and variables"
   ]
  },
  {
   "cell_type": "code",
   "execution_count": 1,
   "id": "e70ee92e-47a2-4c6a-969b-c60fc988eb56",
   "metadata": {},
   "outputs": [],
   "source": [
    "# load sympy and symphlepers and init printing\n",
    "from sympyhelpers.sympyhelpers import *\n",
    "sympy.init_printing()"
   ]
  },
  {
   "cell_type": "code",
   "execution_count": 2,
   "id": "cfa1fbe7-42bc-45cb-8d70-21daaacc36f6",
   "metadata": {},
   "outputs": [],
   "source": [
    "# generate coordinate variables and diffmap\n",
    "allsyms, diffmap = gendiffvars([('th','theta'), ('ph', 'phi')])\n",
    "locals().update(allsyms)\n",
    "# define strictly positive quantities (link length, mass, and gravitational acceleration)\n",
    "l,m,g = symbols(\"\\\\ell, m_P, g\", positive=True)\n",
    "# define constraint force as strictly real quantity\n",
    "Fc = symbols(\"F_C\", real=True)"
   ]
  },
  {
   "cell_type": "markdown",
   "id": "a7a4f84d-0720-4d8e-8cff-612d2a9e9c6e",
   "metadata": {},
   "source": [
    "## Define Direction Cosine Matrices and Angular Velocities\n",
    "Anytime we define a non-inertial frame, we should provide ourselves with DCMs and angular velocities so that we can do any required frame component conversions and differentiations. In this case, the spherical frame is related to the inertial frame via a rotation about $\\mathbf{\\hat{e}}_3$ by angle $\\theta$ followed by a rotation about $\\mathbf{\\hat{e}}_\\theta$ by angle $\\phi$.  Both rotations are positive (counter-clockwise) so the total DCM is given by:\n",
    "$${{\\vphantom{C}}^{\\mathcal{S}}\\!{C}^{\\mathcal{I}}} = C_2(\\phi)C_3(\\theta)$$\n",
    "Similarly, we can find the net angular velocity of the $\\mathcal{S}$ frame in the $\\mathcal{I}$ frame by summing the two intermediate angular velocities: \n",
    "$$ {{\\vphantom{\\boldsymbol{\\omega}}}^{\\mathcal{I}}\\!{\\boldsymbol{\\omega}}^{\\mathcal{S}}} = {{\\vphantom{\\boldsymbol{\\omega}}}^{\\mathcal{I}}\\!{\\boldsymbol{\\omega}}^{\\mathcal{C}}} + {{\\vphantom{\\boldsymbol{\\omega}}}^{\\mathcal{C}}\\!{\\boldsymbol{\\omega}}^{\\mathcal{S}}} = \\dot\\theta \\mathbf{\\hat{e}}_3 + \\dot\\phi\\mathbf{\\hat{e}}_\\theta$$\n",
    "where $\\mathcal{C}$ is the intermediate Cylindrical frame resulting from the first ($\\theta$) rotation. In order to put the final expression entirely in $\\mathcal{S}$ frame components, we also need to transform the first angular velocity:\n",
    "$$[{{\\vphantom{\\boldsymbol{\\omega}}}^{\\mathcal{I}}\\!{\\boldsymbol{\\omega}}^{\\mathcal{S}}}]_\\mathcal{S} = {{\\vphantom{C}}^{\\mathcal{S}}\\!{C}^{\\mathcal{I}}}[{{\\vphantom{\\boldsymbol{\\omega}}}^{\\mathcal{I}}\\!{\\boldsymbol{\\omega}}^{\\mathcal{C}}} ]_\\mathcal{I} + [{{\\vphantom{\\boldsymbol{\\omega}}}^{\\mathcal{C}}\\!{\\boldsymbol{\\omega}}^{\\mathcal{S}}} ]_\\mathcal{S}$$"
   ]
  },
  {
   "cell_type": "code",
   "execution_count": 3,
   "id": "e8a9ed4a-6aa8-428a-8e92-96cffab28649",
   "metadata": {},
   "outputs": [
    {
     "data": {
      "image/png": "[encoded data removed]",
      "text/latex": [
       "$\\displaystyle \\left( \\left[\\begin{matrix}\\cos{\\left(\\phi \\right)} \\cos{\\left(\\theta \\right)} & \\sin{\\left(\\theta \\right)} \\cos{\\left(\\phi \\right)} & - \\sin{\\left(\\phi \\right)}\\\\- \\sin{\\left(\\theta \\right)} & \\cos{\\left(\\theta \\right)} & 0\\\\\\sin{\\left(\\phi \\right)} \\cos{\\left(\\theta \\right)} & \\sin{\\left(\\phi \\right)} \\sin{\\left(\\theta \\right)} & \\cos{\\left(\\phi \\right)}\\end{matrix}\\right], \\  \\dot{\\phi} \\hat{\\mathbf{e}}_\\theta - \\dot{\\theta} \\sin{\\left(\\phi \\right)} \\hat{\\mathbf{e}}_\\phi + \\dot{\\theta} \\cos{\\left(\\phi \\right)} \\hat{\\mathbf{e}}_\\rho\\right)$"
      ],
      "text/plain": [
       "⎛⎡cos(φ)⋅cos(θ)  sin(θ)⋅cos(φ)  -sin(φ)⎤                                                                               \n",
       "⎜⎢                                     ⎥                                                                               \n",
       "⎜⎢   -sin(θ)        cos(θ)         0   ⎥, φ̇⋅\\hat{\\mathbf{e}}_\\theta - θ̇⋅sin(φ)⋅\\hat{\\mathbf{e}}_\\phi + θ̇⋅cos(φ)⋅\\hat\n",
       "⎜⎢                                     ⎥                                                                               \n",
       "⎝⎣sin(φ)⋅cos(θ)  sin(φ)⋅sin(θ)  cos(φ) ⎦                                                                               \n",
       "\n",
       "              ⎞\n",
       "              ⎟\n",
       "{\\mathbf{e}}_\\rho⎟\n",
       "              ⎟\n",
       "              ⎠"
      ]
     },
     "execution_count": 3,
     "metadata": {},
     "output_type": "execute_result"
    }
   ],
   "source": [
    "# define spherical frame DCM and angular velocity\n",
    "# all vectors will be in S frame components\n",
    "sCi = rotMat(2,ph)*rotMat(3,th)\n",
    "IwS_S = (sCi*Matrix([0,0,thd])) + Matrix([0,phd,0])\n",
    "sCi,mat2vec(IwS_S,sphericalframe)"
   ]
  },
  {
   "cell_type": "markdown",
   "id": "782b1c60-79ce-43e7-8bf2-b2f283217769",
   "metadata": {},
   "source": [
    "## Kinematics\n",
    "We define the position vector $\\mathbf{r}_{P/O} \\triangleq \\ell \\mathbf{\\hat{e}}_\\rho$ and differentiate with respect to the inertial frame to find the inertial velocity (in $\\mathcal{S}$ frame components."
   ]
  },
  {
   "cell_type": "code",
   "execution_count": 4,
   "id": "7ad0bfc9-e92c-4d4e-afe8-7d8c726c835e",
   "metadata": {},
   "outputs": [
    {
     "data": {
      "image/png": "[encoded data removed]",
      "text/latex": [
       "$\\displaystyle \\ell \\hat{\\mathbf{e}}_\\rho$"
      ],
      "text/plain": [
       "\\ell⋅\\hat{\\mathbf{e}}_\\rho"
      ]
     },
     "execution_count": 4,
     "metadata": {},
     "output_type": "execute_result"
    }
   ],
   "source": [
    "# position vector\n",
    "r_PO_S = Matrix([0,0,l])\n",
    "mat2vec(r_PO_S,sphericalframe)"
   ]
  },
  {
   "cell_type": "code",
   "execution_count": 5,
   "id": "fd82ef2c-14bf-48d7-83ca-e1e46cd8a95c",
   "metadata": {},
   "outputs": [
    {
     "data": {
      "image/png": "[encoded data removed]",
      "text/latex": [
       "$\\displaystyle \\ell \\dot{\\phi} \\hat{\\mathbf{e}}_\\phi + \\ell \\dot{\\theta} \\sin{\\left(\\phi \\right)} \\hat{\\mathbf{e}}_\\theta$"
      ],
      "text/plain": [
       "\\ell⋅φ̇⋅\\hat{\\mathbf{e}}_\\phi + \\ell⋅θ̇⋅sin(φ)⋅\\hat{\\mathbf{e}}_\\theta"
      ]
     },
     "execution_count": 5,
     "metadata": {},
     "output_type": "execute_result"
    }
   ],
   "source": [
    "# velocity vector\n",
    "v_PO_S = transportEq(r_PO_S, t, diffmap, IwS_S)\n",
    "mat2vec(v_PO_S,sphericalframe)"
   ]
  },
  {
   "cell_type": "markdown",
   "id": "dc55eb02-bec8-4d9c-91f6-97709b98dd7b",
   "metadata": {},
   "source": [
    "## Forces\n",
    "As per our free body diagram, the only forces acting on the mass are gravity ($-m_Pg\\mathbf{\\hat{e}}_3$) and the link constraint force ($-F_C \\mathbf{\\hat{e}}_\\rho$). Again, we will express everything in $\\mathcal{S}$ frame components."
   ]
  },
  {
   "cell_type": "code",
   "execution_count": 6,
   "id": "97c82ff4-a264-4237-ac60-86ec4a0132cc",
   "metadata": {},
   "outputs": [
    {
     "data": {
      "image/png": "[encoded data removed]",
      "text/latex": [
       "$\\displaystyle g m_{P} \\sin{\\left(\\phi \\right)} \\hat{\\mathbf{e}}_\\phi - g m_{P} \\cos{\\left(\\phi \\right)} \\hat{\\mathbf{e}}_\\rho$"
      ],
      "text/plain": [
       "g⋅m_P⋅sin(φ)⋅\\hat{\\mathbf{e}}_\\phi - g⋅m_P⋅cos(φ)⋅\\hat{\\mathbf{e}}_\\rho"
      ]
     },
     "execution_count": 6,
     "metadata": {},
     "output_type": "execute_result"
    }
   ],
   "source": [
    "# force due to gravity\n",
    "F_g_S = sCi*Matrix([0,0,-m*g])\n",
    "mat2vec(F_g_S,sphericalframe)"
   ]
  },
  {
   "cell_type": "code",
   "execution_count": 7,
   "id": "196eb027-27ab-4862-b7aa-8b84ee5b9970",
   "metadata": {},
   "outputs": [
    {
     "data": {
      "image/png": "[encoded data removed]",
      "text/latex": [
       "$\\displaystyle - F_{C} \\hat{\\mathbf{e}}_\\rho$"
      ],
      "text/plain": [
       "-F_C⋅\\hat{\\mathbf{e}}_\\rho"
      ]
     },
     "execution_count": 7,
     "metadata": {},
     "output_type": "execute_result"
    }
   ],
   "source": [
    "# force due to link constraint\n",
    "F_C_S = Matrix([0,0,-Fc])\n",
    "mat2vec(F_C_S,sphericalframe)"
   ]
  },
  {
   "cell_type": "markdown",
   "id": "88d7910c-a4c3-4841-8a2b-3d76c5d3e848",
   "metadata": {},
   "source": [
    "## Angular Momentum Balance\n",
    "We will first find the equations of motion via the angular momentum form of Newton's second law.  This is the most direct approach to getting to the equations of motion using Newtonian formalism, but does not allow us to solve for the link force magnitude.\n",
    "We find the angular momentum of $P$ about $O$:\n",
    "$${\\vphantom{\\mathbf h_{P/O}}}^{\\mathcal{I}}\\!{\\mathbf h_{P/O}} = \\mathbf r_{P/O} \\times m_P {}^{\\mathcal{I}}\\!{\\mathbf v_{P/O}}$$\n",
    "differentiate it with respect to the inertial reference frame, and set the solution equal to the net moment on $P$ about $O$:\n",
    "$$\\mathbf{M}_{P/O} = \\mathbf r_{P/O} \\times \\mathbf{F}_P$$"
   ]
  },
  {
   "cell_type": "code",
   "execution_count": 8,
   "id": "81e58576-b6b8-4af2-92e7-b82a3dd89d4b",
   "metadata": {},
   "outputs": [
    {
     "data": {
      "image/png": "[encoded data removed]",
      "text/latex": [
       "$\\displaystyle \\ell^{2} m_{P} \\dot{\\phi} \\hat{\\mathbf{e}}_\\theta - \\ell^{2} m_{P} \\dot{\\theta} \\sin{\\left(\\phi \\right)} \\hat{\\mathbf{e}}_\\phi$"
      ],
      "text/plain": [
       "    2                                     2                                   \n",
       "\\ell ⋅m_P⋅φ̇⋅\\hat{\\mathbf{e}}_\\theta - \\ell ⋅m_P⋅θ̇⋅sin(φ)⋅\\hat{\\mathbf{e}}_\\phi"
      ]
     },
     "execution_count": 8,
     "metadata": {},
     "output_type": "execute_result"
    }
   ],
   "source": [
    "# angular momentum of P about O\n",
    "h_PO_S = m*r_PO_S.cross(v_PO_S)\n",
    "mat2vec(h_PO_S, sphericalframe)"
   ]
  },
  {
   "cell_type": "code",
   "execution_count": 9,
   "id": "e7c6ac4d-1e5d-46df-b881-8d1c85bf6e8d",
   "metadata": {},
   "outputs": [
    {
     "data": {
      "image/png": "[encoded data removed]",
      "text/latex": [
       "$\\displaystyle \\ell^{2} m_{P} \\left(\\ddot{\\phi} - \\frac{\\dot{\\theta}^{2} \\sin{\\left(2 \\phi \\right)}}{2}\\right) \\hat{\\mathbf{e}}_\\theta - \\ell^{2} m_{P} \\left(2 \\dot{\\phi} \\dot{\\theta} \\cos{\\left(\\phi \\right)} + \\ddot{\\theta} \\sin{\\left(\\phi \\right)}\\right) \\hat{\\mathbf{e}}_\\phi$"
      ],
      "text/plain": [
       "          ⎛     2         ⎞                                                                                    \n",
       "    2     ⎜    θ̇ ⋅sin(2⋅φ)⎟                               2                                                    \n",
       "\\ell ⋅m_P⋅⎜φ̈ - ───────────⎟⋅\\hat{\\mathbf{e}}_\\theta - \\ell ⋅m_P⋅(2⋅φ̇⋅θ̇⋅cos(φ) + θ̈⋅sin(φ))⋅\\hat{\\mathbf{e}}_\\phi\n",
       "          ⎝         2     ⎠                                                                                    "
      ]
     },
     "execution_count": 9,
     "metadata": {},
     "output_type": "execute_result"
    }
   ],
   "source": [
    "# inertial derivative of angular momentum\n",
    "dh_PO_S = simplify(transportEq(h_PO_S, t, diffmap, IwS_S))\n",
    "mat2vec(dh_PO_S, sphericalframe)"
   ]
  },
  {
   "cell_type": "code",
   "execution_count": 10,
   "id": "a7eb5e84-8757-48b6-9c57-017ffb2628f1",
   "metadata": {},
   "outputs": [
    {
     "data": {
      "image/png": "[encoded data removed]",
      "text/latex": [
       "$\\displaystyle \\ell g m_{P} \\sin{\\left(\\phi \\right)} \\hat{\\mathbf{e}}_\\theta$"
      ],
      "text/plain": [
       "\\ell⋅g⋅m_P⋅sin(φ)⋅\\hat{\\mathbf{e}}_\\theta"
      ]
     },
     "execution_count": 10,
     "metadata": {},
     "output_type": "execute_result"
    }
   ],
   "source": [
    "# net torque on P aobut O.  Note that adding in the constraint \n",
    "# force is unnecessary as it cannot produce a torque about O\n",
    "# we include it just for completness sake\n",
    "M_PO_S = r_PO_S.cross(F_g_S+F_C_S)\n",
    "mat2vec(M_PO_S,sphericalframe)"
   ]
  },
  {
   "cell_type": "code",
   "execution_count": 11,
   "id": "b5fb0db0-29ac-498f-ba1e-2b3351bea982",
   "metadata": {},
   "outputs": [
    {
     "data": {
      "image/png": "[encoded data removed]",
      "text/latex": [
       "$\\displaystyle \\left\\{ \\ddot{\\phi} : \\frac{\\dot{\\theta}^{2} \\sin{\\left(2 \\phi \\right)}}{2} + \\frac{g \\sin{\\left(\\phi \\right)}}{\\ell}, \\  \\ddot{\\theta} : - \\frac{2 \\dot{\\phi} \\dot{\\theta} \\cos{\\left(\\phi \\right)}}{\\sin{\\left(\\phi \\right)}}\\right\\}$"
      ],
      "text/plain": [
       "⎧    2                                       ⎫\n",
       "⎪   θ̇ ⋅sin(2⋅φ)   g⋅sin(φ)     -2⋅φ̇⋅θ̇⋅cos(φ) ⎪\n",
       "⎨φ̈: ─────────── + ────────, θ̈: ──────────────⎬\n",
       "⎪        2          \\ell           sin(φ)    ⎪\n",
       "⎩                                            ⎭"
      ]
     },
     "execution_count": 11,
     "metadata": {},
     "output_type": "execute_result"
    }
   ],
   "source": [
    "# solve the equations of motion\n",
    "sol1 = solve(dh_PO_S - M_PO_S, (phdd,thdd))\n",
    "sol1"
   ]
  },
  {
   "cell_type": "markdown",
   "id": "2fa7ca23-1a7d-4c8f-9e52-8633357ec88e",
   "metadata": {},
   "source": [
    "## Linear Momentum Balance\n",
    "We will repeat the derivation using the linear momentum form of Newton's second law.  This requires us to evaluate the inertial acceleration of $P$ with respect to $O$ and then set this (times the mass) equal to the resultant force on $P$.  We can then solve for the equations of motion as well as the magnitude of the link force."
   ]
  },
  {
   "cell_type": "code",
   "execution_count": 12,
   "id": "18301a27-cba2-4987-b90b-c07dddb1c98a",
   "metadata": {},
   "outputs": [
    {
     "data": {
      "image/png": "[encoded data removed]",
      "text/latex": [
       "$\\displaystyle \\left(\\ell \\ddot{\\phi} - \\ell \\dot{\\theta}^{2} \\sin{\\left(\\phi \\right)} \\cos{\\left(\\phi \\right)}\\right) \\hat{\\mathbf{e}}_\\phi + \\left(- \\ell \\dot{\\phi}^{2} - \\ell \\dot{\\theta}^{2} \\sin^{2}{\\left(\\phi \\right)}\\right) \\hat{\\mathbf{e}}_\\rho + \\left(2 \\ell \\dot{\\phi} \\dot{\\theta} \\cos{\\left(\\phi \\right)} + \\ell \\ddot{\\theta} \\sin{\\left(\\phi \\right)}\\right) \\hat{\\mathbf{e}}_\\theta$"
      ],
      "text/plain": [
       "⎛               2              ⎞                         ⎛        2         2    2   ⎞                                 \n",
       "⎝\\ell⋅φ̈ - \\ell⋅θ̇ ⋅sin(φ)⋅cos(φ)⎠⋅\\hat{\\mathbf{e}}_\\phi + ⎝- \\ell⋅φ̇  - \\ell⋅θ̇ ⋅sin (φ)⎠⋅\\hat{\\mathbf{e}}_\\rho + (2⋅\\\n",
       "\n",
       "                                                   \n",
       "ell⋅φ̇⋅θ̇⋅cos(φ) + \\ell⋅θ̈⋅sin(φ))⋅\\hat{\\mathbf{e}}_\\theta"
      ]
     },
     "execution_count": 12,
     "metadata": {},
     "output_type": "execute_result"
    }
   ],
   "source": [
    "# acceleration vector\n",
    "a_PO_S = transportEq(v_PO_S, t, diffmap, IwS_S)\n",
    "mat2vec(a_PO_S,sphericalframe)"
   ]
  },
  {
   "cell_type": "code",
   "execution_count": 13,
   "id": "d92c6a11-7058-47e6-add6-b716f69a43a2",
   "metadata": {},
   "outputs": [
    {
     "data": {
      "image/png": "[encoded data removed]",
      "text/latex": [
       "$\\displaystyle \\left\\{ F_{C} : \\ell m_{P} \\dot{\\phi}^{2} + \\ell m_{P} \\dot{\\theta}^{2} \\sin^{2}{\\left(\\phi \\right)} - g m_{P} \\cos{\\left(\\phi \\right)}, \\  \\ddot{\\phi} : \\dot{\\theta}^{2} \\sin{\\left(\\phi \\right)} \\cos{\\left(\\phi \\right)} + \\frac{g \\sin{\\left(\\phi \\right)}}{\\ell}, \\  \\ddot{\\theta} : - \\frac{2 \\dot{\\phi} \\dot{\\theta} \\cos{\\left(\\phi \\right)}}{\\sin{\\left(\\phi \\right)}}\\right\\}$"
      ],
      "text/plain": [
       "⎧               2             2    2                        2                 g⋅sin(φ)     -2⋅φ̇⋅θ̇⋅cos(φ) ⎫\n",
       "⎨F_C: \\ell⋅m_P⋅φ̇  + \\ell⋅m_P⋅θ̇ ⋅sin (φ) - g⋅m_P⋅cos(φ), φ̈: θ̇ ⋅sin(φ)⋅cos(φ) + ────────, θ̈: ──────────────⎬\n",
       "⎩                                                                               \\ell           sin(φ)    ⎭"
      ]
     },
     "execution_count": 13,
     "metadata": {},
     "output_type": "execute_result"
    }
   ],
   "source": [
    "sol2 = solve(m*a_PO_S - (F_g_S+F_C_S), (phdd,thdd, Fc))\n",
    "sol2"
   ]
  },
  {
   "cell_type": "markdown",
   "id": "adfe0d93-9152-43e7-b633-faba940527e0",
   "metadata": {},
   "source": [
    "A quick check to ensure that the two solutions match:"
   ]
  },
  {
   "cell_type": "code",
   "execution_count": 14,
   "id": "cafb12a5-0048-465d-a868-96daf9f7739a",
   "metadata": {},
   "outputs": [
    {
     "data": {
      "image/png": "[encoded data removed]",
      "text/latex": [
       "$\\displaystyle 0$"
      ],
      "text/plain": [
       "0"
      ]
     },
     "execution_count": 14,
     "metadata": {},
     "output_type": "execute_result"
    }
   ],
   "source": [
    "simplify(sol1[phdd]- sol2[phdd])"
   ]
  },
  {
   "cell_type": "code",
   "execution_count": 15,
   "id": "1f71b1d3-64ea-4ad7-a0dc-98a0bbd6ed84",
   "metadata": {},
   "outputs": [
    {
     "data": {
      "image/png": "[encoded data removed]",
      "text/latex": [
       "$\\displaystyle 0$"
      ],
      "text/plain": [
       "0"
      ]
     },
     "execution_count": 15,
     "metadata": {},
     "output_type": "execute_result"
    }
   ],
   "source": [
    "simplify(sol1[thdd]- sol2[thdd])"
   ]
  },
  {
   "cell_type": "markdown",
   "id": "a0e0272d-4531-483d-8c03-ad986b371b99",
   "metadata": {},
   "source": [
    "## Euler-Lagrange Solution\n",
    "Finally, let's solve for the equations of motion using the Euler-Lagrange equations.  We will need to evaluate the Lagrangian: $L = T-V$ where $T$ is the total kinetic energy of the system and $V$ is the total potential energy.  The kinetic energy is solely due to the particle's velocity, while the potential energy is solely due to gravity.  We define the potential energy zero point such that\n",
    "$$V = mg\\left(\\mathbf{r}_{P/O} \\cdot \\mathbf{\\hat{e}}_3\\right)$$"
   ]
  },
  {
   "cell_type": "code",
   "execution_count": 16,
   "id": "29eb569f-f6a2-468e-9993-4847b491f9c0",
   "metadata": {},
   "outputs": [
    {
     "data": {
      "image/png": "[encoded data removed]",
      "text/latex": [
       "$\\displaystyle \\frac{m_{P} \\left(\\ell^{2} \\dot{\\phi}^{2} + \\ell^{2} \\dot{\\theta}^{2} \\sin^{2}{\\left(\\phi \\right)}\\right)}{2}$"
      ],
      "text/plain": [
       "    ⎛    2  2       2  2    2   ⎞\n",
       "m_P⋅⎝\\ell ⋅φ̇  + \\ell ⋅θ̇ ⋅sin (φ)⎠\n",
       "─────────────────────────────────\n",
       "                2                "
      ]
     },
     "execution_count": 16,
     "metadata": {},
     "output_type": "execute_result"
    }
   ],
   "source": [
    "# compute the kinetic energy\n",
    "T = m/2*(v_PO_S.dot(v_PO_S))\n",
    "T"
   ]
  },
  {
   "cell_type": "code",
   "execution_count": 17,
   "id": "30211f93-6211-4fd2-a325-180192562481",
   "metadata": {},
   "outputs": [
    {
     "data": {
      "image/png": "[encoded data removed]",
      "text/latex": [
       "$\\displaystyle \\ell g m_{P} \\cos{\\left(\\phi \\right)}$"
      ],
      "text/plain": [
       "\\ell⋅g⋅m_P⋅cos(φ)"
      ]
     },
     "execution_count": 17,
     "metadata": {},
     "output_type": "execute_result"
    }
   ],
   "source": [
    "# compute the potential energy\n",
    "V = m*g*(r_PO_S.dot(sCi*Matrix([0,0,1])))\n",
    "V"
   ]
  },
  {
   "cell_type": "code",
   "execution_count": 18,
   "id": "acf83da0-470f-4d78-86de-f8b9b2c18e55",
   "metadata": {},
   "outputs": [
    {
     "data": {
      "image/png": "[encoded data removed]",
      "text/latex": [
       "$\\displaystyle - \\ell g m_{P} \\cos{\\left(\\phi \\right)} + \\frac{m_{P} \\left(\\ell^{2} \\dot{\\phi}^{2} + \\ell^{2} \\dot{\\theta}^{2} \\sin^{2}{\\left(\\phi \\right)}\\right)}{2}$"
      ],
      "text/plain": [
       "                         ⎛    2  2       2  2    2   ⎞\n",
       "                     m_P⋅⎝\\ell ⋅φ̇  + \\ell ⋅θ̇ ⋅sin (φ)⎠\n",
       "-\\ell⋅g⋅m_P⋅cos(φ) + ─────────────────────────────────\n",
       "                                     2                "
      ]
     },
     "execution_count": 18,
     "metadata": {},
     "output_type": "execute_result"
    }
   ],
   "source": [
    "# define Lagrangian\n",
    "L = T-V\n",
    "L"
   ]
  },
  {
   "cell_type": "code",
   "execution_count": 19,
   "id": "8c490fa9-e749-40a3-9ff0-d2967b9c0973",
   "metadata": {},
   "outputs": [
    {
     "data": {
      "image/png": "[encoded data removed]",
      "text/latex": [
       "$\\displaystyle \\left\\{ \\ddot{\\phi} : \\frac{\\dot{\\theta}^{2} \\sin{\\left(2 \\phi \\right)}}{2} + \\frac{g \\sin{\\left(\\phi \\right)}}{\\ell}, \\  \\ddot{\\theta} : \\frac{2 \\dot{\\phi} \\dot{\\theta} \\sin{\\left(2 \\phi \\right)}}{\\cos{\\left(2 \\phi \\right)} - 1}\\right\\}$"
      ],
      "text/plain": [
       "⎧    2                                       ⎫\n",
       "⎪   θ̇ ⋅sin(2⋅φ)   g⋅sin(φ)     2⋅φ̇⋅θ̇⋅sin(2⋅φ)⎪\n",
       "⎨φ̈: ─────────── + ────────, θ̈: ──────────────⎬\n",
       "⎪        2          \\ell        cos(2⋅φ) - 1 ⎪\n",
       "⎩                                            ⎭"
      ]
     },
     "execution_count": 19,
     "metadata": {},
     "output_type": "execute_result"
    }
   ],
   "source": [
    "sol3 = EulerLagrange(L, (th,ph), diffmap)\n",
    "sol3"
   ]
  },
  {
   "cell_type": "markdown",
   "id": "8b77b487-4ebf-40f7-9d86-b7905d2a3563",
   "metadata": {},
   "source": [
    "Again, let's check to make sure our solutions all match:"
   ]
  },
  {
   "cell_type": "code",
   "execution_count": 20,
   "id": "0524e968-c64a-451a-b3bd-26ad938103f0",
   "metadata": {},
   "outputs": [
    {
     "data": {
      "image/png": "[encoded data removed]",
      "text/latex": [
       "$\\displaystyle 0$"
      ],
      "text/plain": [
       "0"
      ]
     },
     "execution_count": 20,
     "metadata": {},
     "output_type": "execute_result"
    }
   ],
   "source": [
    "simplify(sol1[phdd]- sol3[phdd])"
   ]
  },
  {
   "cell_type": "code",
   "execution_count": 21,
   "id": "bd68b6cb-6680-4883-b294-da7a058470f9",
   "metadata": {},
   "outputs": [
    {
     "data": {
      "image/png": "[encoded data removed]",
      "text/latex": [
       "$\\displaystyle 0$"
      ],
      "text/plain": [
       "0"
      ]
     },
     "execution_count": 21,
     "metadata": {},
     "output_type": "execute_result"
    }
   ],
   "source": [
    "simplify(sol1[thdd]- sol3[thdd])"
   ]
  }
 ],
 "metadata": {
  "kernelspec": {
   "display_name": "Python 3 (ipykernel)",
   "language": "python",
   "name": "python3"
  },
  "language_info": {
   "codemirror_mode": {
    "name": "ipython",
    "version": 3
   },
   "file_extension": ".py",
   "mimetype": "text/x-python",
   "name": "python",
   "nbconvert_exporter": "python",
   "pygments_lexer": "ipython3",
   "version": "3.12.10"
  }
 },
 "nbformat": 4,
 "nbformat_minor": 5
}
